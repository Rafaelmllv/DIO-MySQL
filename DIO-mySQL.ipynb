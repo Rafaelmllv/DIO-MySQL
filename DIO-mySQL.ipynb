{
 "cells": [
  {
   "cell_type": "markdown",
   "id": "2deffb5a",
   "metadata": {},
   "source": [
    "# Desafio de Projeto da DIO"
   ]
  },
  {
   "cell_type": "markdown",
   "id": "a0076ae8",
   "metadata": {},
   "source": [
    "Criação da Tabela no MySQL\n",
    "\n",
    "Entrega da tabela utilizando o Jupyter Notebook:\n",
    "- Conectar o Jupyter ao servidor local do MySQL;\n",
    "- importar a tabela utilizando o Pandas; \n",
    "- \"embelezamento\" da tabela, simulando o front-end;\n",
    "    - Alteração do nome das colunas;\n",
    "    - seleção do type: 0 para Série e 1 para Filme;\n",
    "    - remoção dos NaN das informações de episódio para o tipo 'filme';\n",
    "    - conversão do timestamp para o formato de data brasileiro.\n"
   ]
  },
  {
   "cell_type": "markdown",
   "id": "a1a1bc4a",
   "metadata": {},
   "source": [
    "O desafio consiste em criar uma tabela de controle de filmes e séries assistidas no MySQL e dosponibilizá-la de uma forma amigável\n",
    "\n",
    "\n",
    "O primeiro passo é importar as bibliotecas que serão utilizadas: \n",
    "- SQLAlchemy para conectar o Jupyter ao banco de dados MySQL;\n",
    "- Pandas para criar um DataFrame a partir dos dados importados;"
   ]
  },
  {
   "cell_type": "code",
   "execution_count": 1,
   "id": "f3cf5f7b",
   "metadata": {},
   "outputs": [],
   "source": [
    "from sqlalchemy import create_engine\n",
    "import pandas as pd"
   ]
  },
  {
   "cell_type": "markdown",
   "id": "4252cc28",
   "metadata": {},
   "source": [
    "Em seguida será criada uma 'engine' utilizando o SQLAlchemy, que é o mecanismo de conexão entre o MySQL e o Jupyter:"
   ]
  },
  {
   "cell_type": "code",
   "execution_count": 2,
   "id": "2cddb075",
   "metadata": {},
   "outputs": [],
   "source": [
    "engine = create_engine('mysql+pymysql://root:@localhost/movies-control')"
   ]
  },
  {
   "cell_type": "markdown",
   "id": "c1d31a6e",
   "metadata": {},
   "source": [
    "Finalmente será criado o DataFrame 'df', utilizando o método read_sql_table() do Pandas."
   ]
  },
  {
   "cell_type": "code",
   "execution_count": 3,
   "id": "de97879a",
   "metadata": {},
   "outputs": [],
   "source": [
    "df = pd.read_sql_table('movies',engine,index_col=['id'])\n",
    "# Cria o DataFrame a partir da tabela 'movies', utilizando a conexão 'engine' e define a coluna 'id' como index do DataFrame."
   ]
  },
  {
   "cell_type": "markdown",
   "id": "fe80628a",
   "metadata": {},
   "source": [
    "Nesse ponto o DataFrame já está criado e pode ser exibido:"
   ]
  },
  {
   "cell_type": "code",
   "execution_count": 4,
   "id": "ddf79ab0",
   "metadata": {},
   "outputs": [
    {
     "data": {
      "text/html": [
       "<div>\n",
       "<style scoped>\n",
       "    .dataframe tbody tr th:only-of-type {\n",
       "        vertical-align: middle;\n",
       "    }\n",
       "\n",
       "    .dataframe tbody tr th {\n",
       "        vertical-align: top;\n",
       "    }\n",
       "\n",
       "    .dataframe thead th {\n",
       "        text-align: right;\n",
       "    }\n",
       "</style>\n",
       "<table border=\"1\" class=\"dataframe\">\n",
       "  <thead>\n",
       "    <tr style=\"text-align: right;\">\n",
       "      <th></th>\n",
       "      <th>type</th>\n",
       "      <th>name</th>\n",
       "      <th>total_ep</th>\n",
       "      <th>atual_ep</th>\n",
       "      <th>last_view</th>\n",
       "    </tr>\n",
       "    <tr>\n",
       "      <th>id</th>\n",
       "      <th></th>\n",
       "      <th></th>\n",
       "      <th></th>\n",
       "      <th></th>\n",
       "      <th></th>\n",
       "    </tr>\n",
       "  </thead>\n",
       "  <tbody>\n",
       "    <tr>\n",
       "      <th>1</th>\n",
       "      <td>0</td>\n",
       "      <td>Friends</td>\n",
       "      <td>10.0</td>\n",
       "      <td>1.0</td>\n",
       "      <td>2021-11-26</td>\n",
       "    </tr>\n",
       "    <tr>\n",
       "      <th>2</th>\n",
       "      <td>1</td>\n",
       "      <td>Avengers</td>\n",
       "      <td>NaN</td>\n",
       "      <td>NaN</td>\n",
       "      <td>2022-03-26</td>\n",
       "    </tr>\n",
       "    <tr>\n",
       "      <th>3</th>\n",
       "      <td>0</td>\n",
       "      <td>Todo mundo odeia o Chris</td>\n",
       "      <td>20.0</td>\n",
       "      <td>3.0</td>\n",
       "      <td>2022-03-10</td>\n",
       "    </tr>\n",
       "    <tr>\n",
       "      <th>4</th>\n",
       "      <td>1</td>\n",
       "      <td>1917</td>\n",
       "      <td>NaN</td>\n",
       "      <td>NaN</td>\n",
       "      <td>2022-03-26</td>\n",
       "    </tr>\n",
       "    <tr>\n",
       "      <th>5</th>\n",
       "      <td>1</td>\n",
       "      <td>300</td>\n",
       "      <td>NaN</td>\n",
       "      <td>NaN</td>\n",
       "      <td>2022-03-26</td>\n",
       "    </tr>\n",
       "  </tbody>\n",
       "</table>\n",
       "</div>"
      ],
      "text/plain": [
       "    type                      name  total_ep  atual_ep  last_view\n",
       "id                                                               \n",
       "1      0                   Friends      10.0       1.0 2021-11-26\n",
       "2      1                  Avengers       NaN       NaN 2022-03-26\n",
       "3      0  Todo mundo odeia o Chris      20.0       3.0 2022-03-10\n",
       "4      1                      1917       NaN       NaN 2022-03-26\n",
       "5      1                       300       NaN       NaN 2022-03-26"
      ]
     },
     "execution_count": 4,
     "metadata": {},
     "output_type": "execute_result"
    }
   ],
   "source": [
    "df.head()"
   ]
  },
  {
   "cell_type": "markdown",
   "id": "de6e3e7a",
   "metadata": {},
   "source": [
    "O problema é essa exibição foi criada a partir dos dados diretamente retirados do Banco de dados(raw data) e pode não atender exatamente a todas as necessidades.\n",
    "Para melhorar a legibilidade, poderemos alterar algumas informações:"
   ]
  },
  {
   "cell_type": "code",
   "execution_count": 5,
   "id": "b8e61f4a",
   "metadata": {},
   "outputs": [],
   "source": [
    "df.columns = ['Tipo', 'Nome', 'Total de episódios', 'Episódio atual', 'Visto por último']\n",
    "# Renomeia as colunas\n",
    "\n",
    "df['Tipo'] = df['Tipo'].map({0:'Série',\n",
    "                             1:'Filme'}) \n",
    "#modifica a coluna 'Tipo' para exbir se é uma Série ou um Filme\n",
    "\n",
    "df = df.fillna('-')\n",
    "#Substitui os valores faltantes(NaN) por um traço (-)\n",
    "\n",
    "df['Visto por último'] = df['Visto por último'].dt.strftime('%d/%m/%Y')\n",
    "# Altera o formato de data para DD/MM/AAAA"
   ]
  },
  {
   "cell_type": "markdown",
   "id": "5a4582a8",
   "metadata": {},
   "source": [
    "E por fim a tabela está pronta para exibição:"
   ]
  },
  {
   "cell_type": "code",
   "execution_count": 6,
   "id": "5b02719f",
   "metadata": {},
   "outputs": [
    {
     "data": {
      "text/html": [
       "<div>\n",
       "<style scoped>\n",
       "    .dataframe tbody tr th:only-of-type {\n",
       "        vertical-align: middle;\n",
       "    }\n",
       "\n",
       "    .dataframe tbody tr th {\n",
       "        vertical-align: top;\n",
       "    }\n",
       "\n",
       "    .dataframe thead th {\n",
       "        text-align: right;\n",
       "    }\n",
       "</style>\n",
       "<table border=\"1\" class=\"dataframe\">\n",
       "  <thead>\n",
       "    <tr style=\"text-align: right;\">\n",
       "      <th></th>\n",
       "      <th>Tipo</th>\n",
       "      <th>Nome</th>\n",
       "      <th>Total de episódios</th>\n",
       "      <th>Episódio atual</th>\n",
       "      <th>Visto por último</th>\n",
       "    </tr>\n",
       "    <tr>\n",
       "      <th>id</th>\n",
       "      <th></th>\n",
       "      <th></th>\n",
       "      <th></th>\n",
       "      <th></th>\n",
       "      <th></th>\n",
       "    </tr>\n",
       "  </thead>\n",
       "  <tbody>\n",
       "    <tr>\n",
       "      <th>1</th>\n",
       "      <td>Série</td>\n",
       "      <td>Friends</td>\n",
       "      <td>10.0</td>\n",
       "      <td>1.0</td>\n",
       "      <td>26/11/2021</td>\n",
       "    </tr>\n",
       "    <tr>\n",
       "      <th>2</th>\n",
       "      <td>Filme</td>\n",
       "      <td>Avengers</td>\n",
       "      <td>-</td>\n",
       "      <td>-</td>\n",
       "      <td>26/03/2022</td>\n",
       "    </tr>\n",
       "    <tr>\n",
       "      <th>3</th>\n",
       "      <td>Série</td>\n",
       "      <td>Todo mundo odeia o Chris</td>\n",
       "      <td>20.0</td>\n",
       "      <td>3.0</td>\n",
       "      <td>10/03/2022</td>\n",
       "    </tr>\n",
       "    <tr>\n",
       "      <th>4</th>\n",
       "      <td>Filme</td>\n",
       "      <td>1917</td>\n",
       "      <td>-</td>\n",
       "      <td>-</td>\n",
       "      <td>26/03/2022</td>\n",
       "    </tr>\n",
       "    <tr>\n",
       "      <th>5</th>\n",
       "      <td>Filme</td>\n",
       "      <td>300</td>\n",
       "      <td>-</td>\n",
       "      <td>-</td>\n",
       "      <td>26/03/2022</td>\n",
       "    </tr>\n",
       "  </tbody>\n",
       "</table>\n",
       "</div>"
      ],
      "text/plain": [
       "     Tipo                      Nome Total de episódios Episódio atual  \\\n",
       "id                                                                      \n",
       "1   Série                   Friends               10.0            1.0   \n",
       "2   Filme                  Avengers                  -              -   \n",
       "3   Série  Todo mundo odeia o Chris               20.0            3.0   \n",
       "4   Filme                      1917                  -              -   \n",
       "5   Filme                       300                  -              -   \n",
       "\n",
       "   Visto por último  \n",
       "id                   \n",
       "1        26/11/2021  \n",
       "2        26/03/2022  \n",
       "3        10/03/2022  \n",
       "4        26/03/2022  \n",
       "5        26/03/2022  "
      ]
     },
     "execution_count": 6,
     "metadata": {},
     "output_type": "execute_result"
    }
   ],
   "source": [
    "df"
   ]
  }
 ],
 "metadata": {
  "kernelspec": {
   "display_name": "Python 3 (ipykernel)",
   "language": "python",
   "name": "python3"
  },
  "language_info": {
   "codemirror_mode": {
    "name": "ipython",
    "version": 3
   },
   "file_extension": ".py",
   "mimetype": "text/x-python",
   "name": "python",
   "nbconvert_exporter": "python",
   "pygments_lexer": "ipython3",
   "version": "3.8.12"
  }
 },
 "nbformat": 4,
 "nbformat_minor": 5
}
